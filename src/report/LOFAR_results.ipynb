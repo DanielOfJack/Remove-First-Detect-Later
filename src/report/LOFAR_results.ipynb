{
 "cells": [
  {
   "cell_type": "code",
   "execution_count": 1,
   "id": "1accc691-923b-4a6e-8a6e-c9d1e9cc3981",
   "metadata": {},
   "outputs": [],
   "source": [
    "import pandas as pd"
   ]
  },
  {
   "cell_type": "code",
   "execution_count": null,
   "id": "b5d9531b-bafb-44b6-8d58-10e55feeddbe",
   "metadata": {},
   "outputs": [],
   "source": [
    "expert_20 = pd.read_csv(\"LOFAR/Experiment_B.csv\")\n",
    "expert_20['MODEL'] = expert_20['MODEL'].str.split('_').str[0]\n",
    "expert_20['Training'] = 'B'"
   ]
  },
  {
   "cell_type": "code",
   "execution_count": null,
   "id": "03ae8590-7f39-45b2-b5cd-884bb257761d",
   "metadata": {},
   "outputs": [],
   "source": [
    "aoflagger = pd.read_csv(\"LOFAR/Experiment_A.csv\")\n",
    "aoflagger['MODEL'] = aoflagger['MODEL'].str.split('_').str[0]\n",
    "aoflagger['Training'] = 'A'"
   ]
  },
  {
   "cell_type": "code",
   "execution_count": null,
   "id": "f99c6a02-3f52-4b27-b6d2-4ebe84710a0c",
   "metadata": {},
   "outputs": [],
   "source": [
    "transfer = pd.read_csv(\"LOFAR/Experiment_C.csv\")\n",
    "transfer['MODEL'] = transfer['MODEL'].str.split('_').str[0]\n",
    "transfer['Training'] = 'C'"
   ]
  },
  {
   "cell_type": "code",
   "execution_count": null,
   "id": "fea231d8-3056-4040-bd3f-da68c31dbc1e",
   "metadata": {},
   "outputs": [],
   "source": [
    "LOFAR_RESULTS = pd.concat((aoflagger, expert_20, transfer))"
   ]
  },
  {
   "cell_type": "code",
   "execution_count": null,
   "id": "480e54f6-7e61-4e2e-8515-97e4882c662c",
   "metadata": {},
   "outputs": [],
   "source": [
    "LOFAR_RESULTS"
   ]
  },
  {
   "cell_type": "code",
   "execution_count": null,
   "id": "611a08c8-eceb-4ff3-94b7-b878640da7b1",
   "metadata": {},
   "outputs": [],
   "source": [
    "import numpy as np\n",
    "import matplotlib.pyplot as plt\n",
    "import seaborn as sns\n",
    "\n",
    "palette_dict = {\n",
    "    \"RFDL\": \"#ff950a\",   # Dull orange\n",
    "    \"UNET\": \"#76aecf\",   # Dull blue\n",
    "    \"RNET6\": \"#cc499a\"   # Dull green\n",
    "}\n",
    "\n",
    "plt.figure(figsize=(18, 12))\n",
    "sns.violinplot(x=\"Training\", y=\"AUPRC\", hue=\"MODEL\", data=LOFAR_RESULTS, inner=\"point\", palette=palette_dict)\n",
    "\n",
    "# Computing mean AUPRC for each model and plotting horizontal lines\n",
    "for model, color in palette_dict.items():\n",
    "    mean_auprc = LOFAR_RESULTS[LOFAR_RESULTS[\"MODEL\"] == model][\"AUPRC\"].mean()\n",
    "    plt.axhline(y=mean_auprc, color=color, linestyle='--', linewidth=3)\n",
    "\n",
    "# Adjusting legend size\n",
    "plt.legend(loc=\"upper left\", prop={'size': 48})  # Adjust size as needed\n",
    "\n",
    "# Set grid, ticks, and their sizes\n",
    "ax = plt.gca()\n",
    "ax.set_yticks([i for i in np.arange(0.3, 1.05, 0.05)])\n",
    "ax.yaxis.grid(True, which='major', linestyle='--', linewidth=0.5)\n",
    "\n",
    "# Adjusting tick label sizes\n",
    "ax.tick_params(axis='both', which='major', labelsize=36)  # Adjust size as needed\n",
    "\n",
    "# Adjusting axis label sizes\n",
    "ax.set_xlabel('Experiment', fontsize=36)  # Adjust size as needed\n",
    "ax.set_ylabel('AUPRC', fontsize=36)     # Adjust size as needed\n",
    "\n",
    "plt.tight_layout()\n",
    "plt.show()"
   ]
  },
  {
   "cell_type": "code",
   "execution_count": null,
   "id": "26c1bad4-744e-4a67-9d53-64ed664e50e4",
   "metadata": {},
   "outputs": [],
   "source": [
    "import pandas as pd\n",
    "\n",
    "# Group by 'MODEL' and 'Training', then aggregate by mean and standard deviation\n",
    "agg_funcs = ['mean', 'std']\n",
    "grouped = LOFAR_RESULTS.groupby(['MODEL', 'Training']).agg({\n",
    "    'AUROC': agg_funcs,\n",
    "    'AUPRC': agg_funcs,\n",
    "    'Best F1 Score': agg_funcs,\n",
    "    'F1 Score': agg_funcs\n",
    "}).reset_index()\n",
    "\n",
    "print(grouped)"
   ]
  }
 ],
 "metadata": {
  "kernelspec": {
   "display_name": "Python 3 (ipykernel)",
   "language": "python",
   "name": "python3"
  },
  "language_info": {
   "codemirror_mode": {
    "name": "ipython",
    "version": 3
   },
   "file_extension": ".py",
   "mimetype": "text/x-python",
   "name": "python",
   "nbconvert_exporter": "python",
   "pygments_lexer": "ipython3",
   "version": "3.9.7"
  }
 },
 "nbformat": 4,
 "nbformat_minor": 5
}
